{
 "cells": [
  {
   "cell_type": "code",
   "execution_count": 6,
   "id": "9810a181-fee3-4381-b9b3-4d72f0e2f7d3",
   "metadata": {},
   "outputs": [
    {
     "name": "stderr",
     "output_type": "stream",
     "text": [
      "C:\\Users\\Franc\\anaconda3\\envs\\datacrunch\\lib\\site-packages\\xgboost\\compat.py:36: FutureWarning: pandas.Int64Index is deprecated and will be removed from pandas in a future version. Use pandas.Index with the appropriate dtype instead.\n",
      "  from pandas import MultiIndex, Int64Index\n"
     ]
    }
   ],
   "source": [
    "# Lib & Dependencies\n",
    "import pandas as pd\n",
    "import numpy as np\n",
    "import xgboost as xgb\n",
    "import scipy\n",
    "\n",
    "import matplotlib.pyplot as plt\n",
    "\n",
    "import requests\n",
    "import gc"
   ]
  },
  {
   "cell_type": "code",
   "execution_count": 19,
   "id": "9cd8b8b1-d73e-4149-904b-896498fa711e",
   "metadata": {},
   "outputs": [],
   "source": [
    "from sklearn.ensemble import RandomForestRegressor"
   ]
  },
  {
   "cell_type": "code",
   "execution_count": 7,
   "id": "99cdcbec-28a2-4123-98f5-c03a4043b107",
   "metadata": {},
   "outputs": [],
   "source": [
    "file_format = 'parquet'\n",
    "\n",
    "train_datalink_X = f'https://tournament.crunchdao.com/data/master/X_train_one_dataset.{file_format}' \n",
    "train_datalink_y = f'https://tournament.crunchdao.com/data/master/y_train_one_dataset.{file_format}'\n",
    "test_datalink_X = f'https://tournament.crunchdao.com/data/master/X_test_one_dataset.{file_format}'\n",
    "exemple_submission_datalink = f'https://tournament.crunchdao.com/data/master/example_submission_one_dataset.{file_format}' \n",
    "\n",
    "if file_format == 'parquet':\n",
    "  # Data for training\n",
    "  train_features = pd.read_parquet(train_datalink_X)\n",
    "  # Data for which you will submit your prediction\n",
    "  test_data = pd.read_parquet(test_datalink_X)\n",
    "  # Targets use for your supervised trainning\n",
    "  train_targets = pd.read_parquet(train_datalink_y)\n",
    "  # Exemple of an awaited submission\n",
    "  exemple_submission = pd.read_parquet(exemple_submission_datalink)"
   ]
  },
  {
   "cell_type": "code",
   "execution_count": 5,
   "id": "57e1f49d-1dbc-464a-849d-0bc2c92730dc",
   "metadata": {},
   "outputs": [],
   "source": [
    "from sklearn.base import BaseEstimator, TransformerMixin\n",
    "import numpy as np \n",
    "import pandas as pd\n",
    "    \n",
    "class RemoveCorrelated(BaseEstimator, TransformerMixin):\n",
    "    \n",
    "    def __init__(self, max_correlation=0.95):\n",
    "        \"\"\"\n",
    "        A transformer which removes highly correlated features.\n",
    "\n",
    "\n",
    "        Parameters:\n",
    "        -----------\n",
    "        max_correlation : float,\n",
    "            The maximum correlation between features before they are removed. \n",
    "\n",
    "        Attributes:\n",
    "        -----------\n",
    "        self.c_mat_ : np.array,\n",
    "            The correlation matrix of X.\n",
    "        \"\"\"\n",
    "        self.max_correlation = max_correlation\n",
    "\n",
    "    def fit(self, X, y=None):\n",
    "        \"\"\"\n",
    "        Fit the transformer according to the given training data.\n",
    "\n",
    "        Calculates the correlation matrix (c_mat_) of X and calculates\n",
    "        indexes of columns which display more than 'max_correlation'\n",
    "        to another column.\n",
    "\n",
    "        Parameters:\n",
    "        -----------\n",
    "        X : {array-like, sparse matrix}\n",
    "            Training vector of shape (n_samples, n_features), where 'n_samples'\n",
    "            is the number of samples and 'n_features' is the number of features.\n",
    "\n",
    "        y : array-like of shape (n_samples,),\n",
    "            Target vector relative to X. Not used, included for API\n",
    "            compatability.\n",
    "        \"\"\"\n",
    "        if isinstance(X, pd.DataFrame):\n",
    "            X = X.to_numpy()\n",
    "        # TO DO: check all entries are float\n",
    "        self.c_mat_ = np.corrcoef(X)\n",
    "        correlated_mask = (self.c_mat_>self.max_correlation) & (self.c_mat_!=1)\n",
    "        corr_cols = np.argwhere(correlated_mask)\n",
    "        self.cols_to_drop = np.unique((np.sort(corr_cols, axis=1)), axis=0)[:,0]\n",
    "        return self\n",
    "    \n",
    "    def transform(self, X, y=None):\n",
    "        \"\"\"\n",
    "        \"\"\"\n",
    "        X = np.delete(X, self.cols_to_drop, axis=1)\n",
    "        return X\n"
   ]
  },
  {
   "cell_type": "code",
   "execution_count": 6,
   "id": "352d54ec-a96c-4313-b685-48ec5510052f",
   "metadata": {},
   "outputs": [],
   "source": [
    "remove = RemoveCorrelated(max_correlation=0.95)"
   ]
  },
  {
   "cell_type": "code",
   "execution_count": 23,
   "id": "e1a63876-d10c-4c7b-9bcc-7e137ea774cb",
   "metadata": {},
   "outputs": [],
   "source": [
    "clf = RandomForestRegressor(max_depth=6, min_samples_leaf=10)"
   ]
  },
  {
   "cell_type": "code",
   "execution_count": 12,
   "id": "b7e76e54-1f55-440a-8660-cf711f4acbec",
   "metadata": {},
   "outputs": [],
   "source": [
    "targets = train_targets.set_index([\"id\",\"Moons\"])\n"
   ]
  },
  {
   "cell_type": "code",
   "execution_count": 25,
   "id": "b0ed2a8b-fe04-4aa2-9fd1-fcd5f2aa342b",
   "metadata": {},
   "outputs": [
    {
     "name": "stdout",
     "output_type": "stream",
     "text": [
      "0\n"
     ]
    },
    {
     "name": "stderr",
     "output_type": "stream",
     "text": [
      "C:\\Users\\Franc\\anaconda3\\envs\\datacrunch\\lib\\site-packages\\sklearn\\base.py:443: UserWarning: X has feature names, but RandomForestRegressor was fitted without feature names\n",
      "  warnings.warn(\n"
     ]
    },
    {
     "name": "stdout",
     "output_type": "stream",
     "text": [
      "1\n"
     ]
    },
    {
     "name": "stderr",
     "output_type": "stream",
     "text": [
      "C:\\Users\\Franc\\anaconda3\\envs\\datacrunch\\lib\\site-packages\\sklearn\\base.py:443: UserWarning: X has feature names, but RandomForestRegressor was fitted without feature names\n",
      "  warnings.warn(\n"
     ]
    },
    {
     "name": "stdout",
     "output_type": "stream",
     "text": [
      "2\n"
     ]
    },
    {
     "name": "stderr",
     "output_type": "stream",
     "text": [
      "C:\\Users\\Franc\\anaconda3\\envs\\datacrunch\\lib\\site-packages\\sklearn\\base.py:443: UserWarning: X has feature names, but RandomForestRegressor was fitted without feature names\n",
      "  warnings.warn(\n"
     ]
    },
    {
     "name": "stdout",
     "output_type": "stream",
     "text": [
      "3\n"
     ]
    },
    {
     "name": "stderr",
     "output_type": "stream",
     "text": [
      "C:\\Users\\Franc\\anaconda3\\envs\\datacrunch\\lib\\site-packages\\sklearn\\base.py:443: UserWarning: X has feature names, but RandomForestRegressor was fitted without feature names\n",
      "  warnings.warn(\n"
     ]
    }
   ],
   "source": [
    "test_preds = np.zeros((len(test_data), 4))\n",
    "\n",
    "for idx in range(4):\n",
    "    print(idx)\n",
    "    clf.fit(train_features.set_index([\"id\",\"Moons\"]).values, targets.values[:,idx])\n",
    "    preds = clf.predict(test_data.set_index([\"id\",\"Moons\"]))\n",
    "    test_preds[:,idx] = preds"
   ]
  },
  {
   "cell_type": "code",
   "execution_count": 11,
   "id": "b93f00e0-cb9d-49f9-a83d-f8e965402fad",
   "metadata": {},
   "outputs": [],
   "source": [
    "targets = train_targets.set_index([\"id\",\"Moons\"])"
   ]
  },
  {
   "cell_type": "code",
   "execution_count": 32,
   "id": "a2bdaeec-9020-44de-9aa9-b4717ac7e215",
   "metadata": {},
   "outputs": [],
   "source": [
    "target_cols = [col for col in exemple_submission.columns if col.startswith(\"target\")]"
   ]
  },
  {
   "cell_type": "code",
   "execution_count": 35,
   "id": "dd83898f-d38e-414f-a195-6a9b21e72374",
   "metadata": {},
   "outputs": [],
   "source": [
    "exemple_submission[target_cols] = test_preds"
   ]
  },
  {
   "cell_type": "code",
   "execution_count": 38,
   "id": "69ad0096-b8da-46d4-b322-0aea926f87df",
   "metadata": {},
   "outputs": [],
   "source": [
    "exemple_submission.to_csv(\"baseline_submission\")"
   ]
  },
  {
   "cell_type": "code",
   "execution_count": null,
   "id": "1d37d5ff-4d3c-4602-b1b7-c1ee7fddf26a",
   "metadata": {},
   "outputs": [],
   "source": []
  },
  {
   "cell_type": "code",
   "execution_count": null,
   "id": "76fb4da9-f3ad-4054-a00d-2f95d6423c85",
   "metadata": {},
   "outputs": [],
   "source": []
  }
 ],
 "metadata": {
  "kernelspec": {
   "display_name": "datacrunch",
   "language": "python",
   "name": "datacrunch"
  },
  "language_info": {
   "codemirror_mode": {
    "name": "ipython",
    "version": 3
   },
   "file_extension": ".py",
   "mimetype": "text/x-python",
   "name": "python",
   "nbconvert_exporter": "python",
   "pygments_lexer": "ipython3",
   "version": "3.10.0"
  }
 },
 "nbformat": 4,
 "nbformat_minor": 5
}
